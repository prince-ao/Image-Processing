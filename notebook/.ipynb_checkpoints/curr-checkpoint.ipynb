{
 "cells": [
  {
   "cell_type": "code",
   "execution_count": 29,
   "id": "449a8f5a",
   "metadata": {},
   "outputs": [],
   "source": [
    "import numpy as np\n",
    "from skimage.io import imread, imsave\n",
    "import math\n",
    "\n",
    "def adaptive_thresholding(im, part_len, part_wid):\n",
    "        manip_im = im.copy()\n",
    "        len_block = int(manip_im.shape[0]/part_len)\n",
    "        width_block = int(manip_im.shape[1]/part_wid)\n",
    "        \n",
    "        for i in range(part_wid):\n",
    "            for j in range(part_len):\n",
    "                block = manip_im[i*len_block:(i+1)*len_block, j*width_block:(j+1)*width_block]\n",
    "                varience = np.var(block)\n",
    "                if varience <= 2000:\n",
    "                    T = block.mean()\n",
    "                    for k in range(block.shape[0]):\n",
    "                        for l in range(block.shape[1]):\n",
    "                            if block[k, l] > T:\n",
    "                                manip_im[i*len_block+k, j*width_block+l] = 255\n",
    "                            else:\n",
    "                                manip_im[i*len_block+k, j*width_block+l] = 0\n",
    "                else:\n",
    "                    block = adaptive_thresholding(block, part_len, part_wid)\n",
    "                    for k in range(block.shape[0]):\n",
    "                        for l in range(block.shape[1]):\n",
    "                            manip_im[i*len_block+k, j*width_block+l] = block[k, l]\n",
    "\n",
    "        return manip_im\n",
    "def rgb_to_grayscale_entropymine(im: np.ndarray):\n",
    "        result = np.zeros((im.shape[0], im.shape[1]))\n",
    "\n",
    "        for i in range(im.shape[0]):\n",
    "            for j in range(im.shape[1]):\n",
    "                r = im[i, j, 0]\n",
    "                g = im[i, j, 1]\n",
    "                b = im[i, j, 2]\n",
    "                result[i, j] = (0.2126*r**2.2 + 0.7152*g**2.2 + 0.0722*b**2.2)**(1/2.2)\n",
    "        return result\n",
    "def nicblack_adaptive_thresholding(im, n, m):\n",
    "    for i in range(im.shape[0]):\n",
    "        for j in range(im.shape[1]):\n",
    "            for l in range(math.floor(n/2)):\n",
    "                for o in range(math.floor(m/2)):\n",
    "                    pass"
   ]
  },
  {
   "cell_type": "code",
   "execution_count": 10,
   "id": "4d6f658e",
   "metadata": {},
   "outputs": [
    {
     "name": "stderr",
     "output_type": "stream",
     "text": [
      "Lossy conversion from float64 to uint8. Range [0.0, 255.00000000000006]. Convert image to uint8 prior to saving to suppress this warning.\n"
     ]
    }
   ],
   "source": [
    "imsave(\"interior3_gray.jpg\", rgb_to_grayscale_entropymine(imread(\"interior3.jpg\")))"
   ]
  },
  {
   "cell_type": "code",
   "execution_count": 28,
   "id": "18ec90e8",
   "metadata": {},
   "outputs": [],
   "source": [
    "imsave(\"interior3_gray_adaptive4.jpg\", adaptive_thresholding(imread(\"interior3_gray.jpg\"), 4, 4))"
   ]
  },
  {
   "cell_type": "code",
   "execution_count": null,
   "id": "537ca13f",
   "metadata": {},
   "outputs": [],
   "source": []
  },
  {
   "cell_type": "code",
   "execution_count": null,
   "id": "fdde8a34",
   "metadata": {},
   "outputs": [],
   "source": []
  },
  {
   "cell_type": "code",
   "execution_count": null,
   "id": "0e8561c6",
   "metadata": {},
   "outputs": [],
   "source": []
  },
  {
   "cell_type": "code",
   "execution_count": null,
   "id": "a0780650",
   "metadata": {},
   "outputs": [],
   "source": []
  },
  {
   "cell_type": "code",
   "execution_count": null,
   "id": "57c61061",
   "metadata": {},
   "outputs": [],
   "source": []
  },
  {
   "cell_type": "code",
   "execution_count": null,
   "id": "98cd9014",
   "metadata": {},
   "outputs": [],
   "source": []
  },
  {
   "cell_type": "code",
   "execution_count": null,
   "id": "14fd90e3",
   "metadata": {},
   "outputs": [],
   "source": []
  },
  {
   "cell_type": "code",
   "execution_count": null,
   "id": "b2e20c58",
   "metadata": {},
   "outputs": [],
   "source": []
  },
  {
   "cell_type": "code",
   "execution_count": null,
   "id": "0260a2ba",
   "metadata": {},
   "outputs": [],
   "source": []
  },
  {
   "cell_type": "code",
   "execution_count": null,
   "id": "6e73f084",
   "metadata": {},
   "outputs": [],
   "source": []
  },
  {
   "cell_type": "code",
   "execution_count": null,
   "id": "ddfe8d50",
   "metadata": {},
   "outputs": [],
   "source": []
  },
  {
   "cell_type": "code",
   "execution_count": null,
   "id": "04e50da1",
   "metadata": {},
   "outputs": [],
   "source": []
  }
 ],
 "metadata": {
  "kernelspec": {
   "display_name": "Python 3 (ipykernel)",
   "language": "python",
   "name": "python3"
  },
  "language_info": {
   "codemirror_mode": {
    "name": "ipython",
    "version": 3
   },
   "file_extension": ".py",
   "mimetype": "text/x-python",
   "name": "python",
   "nbconvert_exporter": "python",
   "pygments_lexer": "ipython3",
   "version": "3.10.8"
  }
 },
 "nbformat": 4,
 "nbformat_minor": 5
}
