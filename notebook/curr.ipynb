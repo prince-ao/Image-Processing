{
 "cells": [
  {
   "cell_type": "code",
   "execution_count": 92,
   "id": "449a8f5a",
   "metadata": {},
   "outputs": [],
   "source": [
    "import numpy as np\n",
    "from skimage.io import imread, imsave\n",
    "import math\n",
    "\n",
    "def adaptive_thresholding(im, part_len, part_wid):\n",
    "        manip_im = im.copy()\n",
    "        len_block = int(manip_im.shape[0]/part_len)\n",
    "        width_block = int(manip_im.shape[1]/part_wid)\n",
    "        \n",
    "        for i in range(part_wid):\n",
    "            for j in range(part_len):\n",
    "                block = manip_im[i*len_block:(i+1)*len_block, j*width_block:(j+1)*width_block]\n",
    "                varience = np.var(block)\n",
    "                if varience <= 2000:\n",
    "                    T = block.mean()\n",
    "                    for k in range(block.shape[0]):\n",
    "                        for l in range(block.shape[1]):\n",
    "                            if block[k, l] > T:\n",
    "                                manip_im[i*len_block+k, j*width_block+l] = 255\n",
    "                            else:\n",
    "                                manip_im[i*len_block+k, j*width_block+l] = 0\n",
    "                else:\n",
    "                    block = adaptive_thresholding(block, part_len, part_wid)\n",
    "                    for k in range(block.shape[0]):\n",
    "                        for l in range(block.shape[1]):\n",
    "                            manip_im[i*len_block+k, j*width_block+l] = block[k, l]\n",
    "\n",
    "        return manip_im\n",
    "def rgb_to_grayscale_entropymine(im: np.ndarray):\n",
    "        result = np.zeros((im.shape[0], im.shape[1]))\n",
    "\n",
    "        for i in range(im.shape[0]):\n",
    "            for j in range(im.shape[1]):\n",
    "                r = im[i, j, 0]\n",
    "                g = im[i, j, 1]\n",
    "                b = im[i, j, 2]\n",
    "                result[i, j] = (0.2126*r**2.2 + 0.7152*g**2.2 + 0.0722*b**2.2)**(1/2.2)\n",
    "        return result\n",
    "\n",
    "def nicblack_adaptive_thresholding(im, n, m, k=0.3): # n and m must be odd\n",
    "    result = im.copy()\n",
    "    rows = im.shape[0]\n",
    "    cols = im.shape[1]\n",
    "    for i in range(rows):\n",
    "        for j in range(cols):\n",
    "            box = []\n",
    "            for l in range((2 * math.floor(n/2))+1):\n",
    "                for o in range((2 * math.floor(m/2))+1):\n",
    "                    curr_i = i - (math.floor(n/2) - l)\n",
    "                    curr_j = j - (math.floor(m/2) - o)\n",
    "                    if curr_i >= 0 and curr_i < rows and curr_j >= 0 and curr_j < cols:\n",
    "                        box.append(im[curr_i, curr_j])\n",
    "            np_box = np.array(box)\n",
    "            mean = np_box.mean()\n",
    "            std = np_box.std()\n",
    "            T = mean + (k * std)\n",
    "            if im[i, j] > T:\n",
    "                result[i, j] = 255\n",
    "            else:\n",
    "                result[i, j] = 0\n",
    "    return result\n",
    "\n",
    "def sauvolas_adaptive_thresholding(im, n, m, k=0.34, R=128): # n and m must be odd\n",
    "    result = im.copy()\n",
    "    rows = im.shape[0]\n",
    "    cols = im.shape[1]\n",
    "    for i in range(rows):\n",
    "        for j in range(cols):\n",
    "            box = []\n",
    "            for l in range((2 * math.floor(n/2))+1):\n",
    "                for o in range((2 * math.floor(m/2))+1):\n",
    "                    curr_i = i - (math.floor(n/2) - l)\n",
    "                    curr_j = j - (math.floor(m/2) - o)\n",
    "                    if curr_i >= 0 and curr_i < rows and curr_j >= 0 and curr_j < cols:\n",
    "                        box.append(im[curr_i, curr_j])\n",
    "            np_box = np.array(box)\n",
    "            mean = np_box.mean()\n",
    "            std = np_box.std()\n",
    "            T = mean * (1+k * ((-1+std)/R))\n",
    "            if im[i, j] > T:\n",
    "                result[i, j] = 255\n",
    "            else:\n",
    "                result[i, j] = 0\n",
    "    return result\n",
    "\n",
    "def bernsens_adaptive_thresholding(im, n, m): # n and m must be odd\n",
    "    im = im.astype(np.float64)\n",
    "    result = im.copy()\n",
    "    rows = im.shape[0]\n",
    "    cols = im.shape[1]\n",
    "    for i in range(rows):\n",
    "        for j in range(cols):\n",
    "            box = []\n",
    "            for l in range((2 * math.floor(n/2))+1):\n",
    "                for o in range((2 * math.floor(m/2))+1):\n",
    "                    curr_i = i - (math.floor(n/2) - l)\n",
    "                    curr_j = j - (math.floor(m/2) - o)\n",
    "                    if curr_i >= 0 and curr_i < rows and curr_j >= 0 and curr_j < cols:\n",
    "                        box.append(im[curr_i, curr_j])\n",
    "            box.sort()\n",
    "            T = 0.5 * (box[0] + box[1])\n",
    "            if im[i, j] > T:\n",
    "                result[i, j] = 255\n",
    "            else:\n",
    "                result[i, j] = 0\n",
    "    return result\n",
    "\n",
    "class Utils:\n",
    "    def save(self, im: np.ndarray, filename = \"save.jpg\"):\n",
    "        \"\"\"Save image\"\"\"\n",
    "        imsave(filename, im)\n",
    "\n",
    "    def save_rgb(self, r, g, b, filename_r = \"red.jpg\", filename_g = \"green.jpg\", filename_b = \"blue.jpg\"):\n",
    "        \"\"\"Save r, g, b channels seperetly\"\"\"\n",
    "        self.save(self.make(r, \"red\"), filename_r)\n",
    "        self.save(self.make(g, \"green\"), filename_g)\n",
    "        self.save(self.make(b, \"blue\"), filename_b)\n",
    "    \n",
    "    def make(self, l: np.ndarray, color: str):\n",
    "        \"\"\"Make a red, green, or blue only image\"\"\"\n",
    "        new = np.zeros((l.shape[0], l.shape[1], 3))\n",
    "        if color == \"red\":\n",
    "            new[:, :, 0] = l\n",
    "            return new\n",
    "        elif color == \"green\":\n",
    "            new[:, :, 1] = l\n",
    "            return new\n",
    "        elif color == \"blue\":\n",
    "            new[:, :, 2] = l\n",
    "            return new\n",
    "        else:\n",
    "            raise ValueError(\"expected a valid color as input\")\n",
    "    \n",
    "    def split_rgb(self, im: np.ndarray):\n",
    "        \"\"\"Split an rgb\"\"\"\n",
    "        return im[:, :, 0], im[:, :, 1], im[:, :, 2]\n",
    "    \n",
    "    def combine_rgb(self, r: np.ndarray, g: np.ndarray, b: np.ndarray):\n",
    "        \"\"\"Combine an rgb\"\"\"\n",
    "        new = np.zeros((r.shape[0], r.shape[1], 3))\n",
    "        new[:, :, 0] = r\n",
    "        new[:, :, 1] = g\n",
    "        new[:, :, 2] = b\n",
    "        return new\n",
    "\n",
    "    def generate_histogram(self, im: np.ndarray):\n",
    "        \"\"\"Generate a histogram\"\"\"\n",
    "        return im.flatten()\n",
    "    \n",
    "    def plot_histogram(self, h: np.ndarray):\n",
    "        \"\"\"Simple histogram plot\"\"\"\n",
    "        plt.hist(h, bins=256)\n",
    "        plt.show()\n",
    "    \n",
    "    def histogram_distance(self, h1: np.ndarray, h2: np.ndarray):\n",
    "        \"\"\"Returns histogram distance\"\"\"\n",
    "        sum = 0\n",
    "        for i in range(h1.shape[0]):\n",
    "            sum += abs(h1[i] - h2[i])\n",
    "        return sum"
   ]
  },
  {
   "cell_type": "code",
   "execution_count": 10,
   "id": "4d6f658e",
   "metadata": {},
   "outputs": [
    {
     "name": "stderr",
     "output_type": "stream",
     "text": [
      "Lossy conversion from float64 to uint8. Range [0.0, 255.00000000000006]. Convert image to uint8 prior to saving to suppress this warning.\n"
     ]
    }
   ],
   "source": [
    "imsave(\"interior3_gray.jpg\", rgb_to_grayscale_entropymine(imread(\"interior3.jpg\")))"
   ]
  },
  {
   "cell_type": "code",
   "execution_count": 28,
   "id": "18ec90e8",
   "metadata": {},
   "outputs": [],
   "source": [
    "imsave(\"interior3_gray_adaptive4.jpg\", adaptive_thresholding(imread(\"interior3_gray.jpg\"), 4, 4))"
   ]
  },
  {
   "cell_type": "code",
   "execution_count": 91,
   "id": "537ca13f",
   "metadata": {},
   "outputs": [
    {
     "name": "stderr",
     "output_type": "stream",
     "text": [
      "Lossy conversion from float64 to uint8. Range [0.0, 255.0]. Convert image to uint8 prior to saving to suppress this warning.\n"
     ]
    }
   ],
   "source": [
    "im = bernsens_adaptive_thresholding(imread(\"interior3_gray.jpg\"), 7, 7)\n",
    "imsave(\"interior3_gray_adaptive_bernsens7.jpg\", im)"
   ]
  },
  {
   "cell_type": "code",
   "execution_count": 93,
   "id": "fdde8a34",
   "metadata": {},
   "outputs": [
    {
     "name": "stderr",
     "output_type": "stream",
     "text": [
      "Lossy conversion from float64 to uint8. Range [0.0, 255.0]. Convert image to uint8 prior to saving to suppress this warning.\n"
     ]
    }
   ],
   "source": [
    "utils = Utils()\n",
    "im = imread(\"interior1.jpg\")\n",
    "split_r, split_g, split_b = utils.split_rgb(im)\n",
    "ada_im_r = nicblack_adaptive_thresholding(split_r, 10, 10)\n",
    "ada_im_g = nicblack_adaptive_thresholding(split_r, 10, 10)\n",
    "ada_im_b = nicblack_adaptive_thresholding(split_r, 10, 10)\n",
    "ada_im = utils.combine_rgb(ada_im_r, ada_im_g, ada_im_b)\n",
    "imsave(\"interior3_gray_adaptive_nicblack_rgb.jpg\", ada_im)"
   ]
  },
  {
   "cell_type": "code",
   "execution_count": null,
   "id": "0e8561c6",
   "metadata": {},
   "outputs": [],
   "source": []
  },
  {
   "cell_type": "code",
   "execution_count": null,
   "id": "a0780650",
   "metadata": {},
   "outputs": [],
   "source": []
  },
  {
   "cell_type": "code",
   "execution_count": null,
   "id": "57c61061",
   "metadata": {},
   "outputs": [],
   "source": []
  },
  {
   "cell_type": "code",
   "execution_count": null,
   "id": "98cd9014",
   "metadata": {},
   "outputs": [],
   "source": []
  },
  {
   "cell_type": "code",
   "execution_count": null,
   "id": "14fd90e3",
   "metadata": {},
   "outputs": [],
   "source": []
  },
  {
   "cell_type": "code",
   "execution_count": null,
   "id": "b2e20c58",
   "metadata": {},
   "outputs": [],
   "source": []
  },
  {
   "cell_type": "code",
   "execution_count": null,
   "id": "0260a2ba",
   "metadata": {},
   "outputs": [],
   "source": []
  },
  {
   "cell_type": "code",
   "execution_count": null,
   "id": "6e73f084",
   "metadata": {},
   "outputs": [],
   "source": []
  },
  {
   "cell_type": "code",
   "execution_count": null,
   "id": "ddfe8d50",
   "metadata": {},
   "outputs": [],
   "source": []
  },
  {
   "cell_type": "code",
   "execution_count": null,
   "id": "04e50da1",
   "metadata": {},
   "outputs": [],
   "source": []
  }
 ],
 "metadata": {
  "kernelspec": {
   "display_name": "Python 3 (ipykernel)",
   "language": "python",
   "name": "python3"
  },
  "language_info": {
   "codemirror_mode": {
    "name": "ipython",
    "version": 3
   },
   "file_extension": ".py",
   "mimetype": "text/x-python",
   "name": "python",
   "nbconvert_exporter": "python",
   "pygments_lexer": "ipython3",
   "version": "3.10.8"
  }
 },
 "nbformat": 4,
 "nbformat_minor": 5
}
